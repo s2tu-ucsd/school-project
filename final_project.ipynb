{
 "cells": [
  {
   "cell_type": "markdown",
   "metadata": {},
   "source": [
    "## Ics generator for winter quarter\n",
    "#### This project takes input of class information for winter quarter and exports ics files with class date and time for easy immport into calendars. \n",
    "\n",
    "#### Uncomment next cell to install icalendar package."
   ]
  },
  {
   "cell_type": "code",
   "execution_count": 1,
   "metadata": {},
   "outputs": [
    {
     "name": "stdout",
     "output_type": "stream",
     "text": [
      "Requirement already satisfied: icalendar in /home/s2tu/.local/lib/python3.6/site-packages (4.0.4)\n",
      "Requirement already satisfied: python-dateutil in /opt/conda/lib/python3.6/site-packages (from icalendar) (2.7.5)\n",
      "Requirement already satisfied: pytz in /opt/conda/lib/python3.6/site-packages (from icalendar) (2018.7)\n",
      "Requirement already satisfied: six>=1.5 in /opt/conda/lib/python3.6/site-packages (from python-dateutil->icalendar) (1.12.0)\n"
     ]
    }
   ],
   "source": [
    "#!pip install icalendar --user"
   ]
  },
  {
   "cell_type": "markdown",
   "metadata": {},
   "source": [
    "#### The following cell import project code from project_code.py"
   ]
  },
  {
   "cell_type": "code",
   "execution_count": 9,
   "metadata": {},
   "outputs": [],
   "source": [
    "import project_code\n",
    "from project_code import *"
   ]
  },
  {
   "cell_type": "markdown",
   "metadata": {},
   "source": [
    "#### Enter information about yoru class follwing instructions for input to generate your course."
   ]
  },
  {
   "cell_type": "code",
   "execution_count": 7,
   "metadata": {},
   "outputs": [
    {
     "name": "stdout",
     "output_type": "stream",
     "text": [
      "what's the code of this class?cogs18\n",
      "Whats' the name of this class?python\n",
      "What school year is this course in?(enter in the formula of e.g.2019)2019\n",
      "On which day of the week do you have this class? e.g. monday and wednesday. (no capital, all lower case)monday\n",
      "When does you your class start?(enter in the formula of 0900 or 1500)0900\n",
      "When does your class end?(enter in the formula of 0900 or 1500)1000\n"
     ]
    }
   ],
   "source": [
    "new_code = input(\"what's the code of this class?\" )\n",
    "new_name = input(\"Whats' the name of this class?\")\n",
    "new_year = int(input(\"What school year is this course in?(enter in the formula of e.g.2019)\"))\n",
    "new_weekday = input(\"On which day of the week do you have this class? e.g. monday and wednesday. (no capital, all lower case)\")\n",
    "new_start_time = input(\"When does you your class start?(enter in the formula of 0900 or 1500)\")\n",
    "new_end_time = input(\"When does your class end?(enter in the formula of 0900 or 1500)\")\n",
    "\n",
    "\n",
    "new_class = Course(new_code, new_name, new_year, \n",
    "                   new_weekday, new_start_time, new_end_time)\n"
   ]
  },
  {
   "cell_type": "markdown",
   "metadata": {},
   "source": [
    "#### This cell will generate the ics file and export to your current working directory."
   ]
  },
  {
   "cell_type": "code",
   "execution_count": 8,
   "metadata": {},
   "outputs": [],
   "source": [
    "ics_generator(new_class)"
   ]
  },
  {
   "cell_type": "code",
   "execution_count": null,
   "metadata": {},
   "outputs": [],
   "source": []
  }
 ],
 "metadata": {
  "kernelspec": {
   "display_name": "Python 3",
   "language": "python",
   "name": "python3"
  },
  "language_info": {
   "codemirror_mode": {
    "name": "ipython",
    "version": 3
   },
   "file_extension": ".py",
   "mimetype": "text/x-python",
   "name": "python",
   "nbconvert_exporter": "python",
   "pygments_lexer": "ipython3",
   "version": "3.6.7"
  }
 },
 "nbformat": 4,
 "nbformat_minor": 2
}
